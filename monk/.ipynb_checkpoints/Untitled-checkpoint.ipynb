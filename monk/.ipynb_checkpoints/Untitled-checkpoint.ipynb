{
 "cells": [
  {
   "cell_type": "code",
   "execution_count": 1,
   "metadata": {},
   "outputs": [],
   "source": [
    "import pandas as pd\n",
    "import numpy as np"
   ]
  },
  {
   "cell_type": "code",
   "execution_count": 21,
   "metadata": {},
   "outputs": [],
   "source": [
    "d1=pd.read_csv('data1',sep=' ',header=None)\n",
    "d2=pd.read_csv('data2',sep=' ',header=None)\n",
    "d3=pd.read_csv('data3',sep=' ',header=None)"
   ]
  },
  {
   "cell_type": "code",
   "execution_count": 22,
   "metadata": {},
   "outputs": [],
   "source": [
    "d1.drop(0,axis=1,inplace=True)\n",
    "d1.drop(8,axis=1,inplace=True)\n",
    "d2.drop(0,axis=1,inplace=True)\n",
    "d2.drop(8,axis=1,inplace=True)\n",
    "d3.drop(0,axis=1,inplace=True)\n",
    "d3.drop(8,axis=1,inplace=True)"
   ]
  },
  {
   "cell_type": "code",
   "execution_count": 23,
   "metadata": {},
   "outputs": [],
   "source": [
    "data1=d.to_numpy()\n",
    "data2=d.to_numpy()\n",
    "data3=d.to_numpy()"
   ]
  },
  {
   "cell_type": "code",
   "execution_count": 117,
   "metadata": {},
   "outputs": [],
   "source": [
    "d1_c0={1:np.array([0,0,0]),2:np.array([0,0,0]),3:np.array([0,0]),4:np.array([0,0,0]),5:np.array([0,0,0,0]),6:np.array([0,0])}\n",
    "d1_c1={1:np.array([0,0,0]),2:np.array([0,0,0]),3:np.array([0,0]),4:np.array([0,0,0]),5:np.array([0,0,0,0]),6:np.array([0,0])}\n",
    "d1_c=0 # counts no of 1\n",
    "d2_c0={1:np.array([0,0,0]),2:np.array([0,0,0]),3:np.array([0,0]),4:np.array([0,0,0]),5:np.array([0,0,0,0]),6:np.array([0,0])}\n",
    "d2_c1={1:np.array([0,0,0]),2:np.array([0,0,0]),3:np.array([0,0]),4:np.array([0,0,0]),5:np.array([0,0,0,0]),6:np.array([0,0])}\n",
    "d2_c=0 # counts no of 1\n",
    "d3_c0={1:np.array([0,0,0]),2:np.array([0,0,0]),3:np.array([0,0]),4:np.array([0,0,0]),5:np.array([0,0,0,0]),6:np.array([0,0])}\n",
    "d3_c1={1:np.array([0,0,0]),2:np.array([0,0,0]),3:np.array([0,0]),4:np.array([0,0,0]),5:np.array([0,0,0,0]),6:np.array([0,0])}\n",
    "d3_c=0 # counts no of 1"
   ]
  },
  {
   "cell_type": "code",
   "execution_count": 118,
   "metadata": {},
   "outputs": [],
   "source": [
    "for i in data1:\n",
    "    for j in range(1,len(i)):\n",
    "        if i[0]==0:\n",
    "            d1_c0[j][i[j]-1]+=1\n",
    "            \n",
    "        else:\n",
    "            d1_c1[j][i[j]-1]+=1\n",
    "    if i[0]==1:\n",
    "        d1_c+=1\n",
    "\n",
    "for i in data2:\n",
    "    for j in range(1,len(i)):\n",
    "        if i[0]==0:\n",
    "            d2_c0[j][i[j]-1]+=1\n",
    "            \n",
    "        else:\n",
    "            d2_c1[j][i[j]-1]+=1\n",
    "    if i[0]==1:\n",
    "        d2_c+=1\n",
    "    \n",
    "for i in data3:\n",
    "    for j in range(1,len(i)):\n",
    "        if i[0]==0:\n",
    "            d3_c0[j][i[j]-1]+=1\n",
    "            \n",
    "        else:\n",
    "            d3_c1[j][i[j]-1]+=1\n",
    "    if i[0]==1:\n",
    "        d3_c+=1\n",
    "    "
   ]
  },
  {
   "cell_type": "code",
   "execution_count": 119,
   "metadata": {},
   "outputs": [],
   "source": [
    "for i in d1_c0.keys():\n",
    "    d1_c0[i]=d1_c0[i]/(len(data1)-d1_c)\n",
    "    d1_c1[i]=d1_c1[i]/d1_c\n",
    "    d2_c0[i]=d2_c0[i]/(len(data2)-d2_c)\n",
    "    d2_c1[i]=d2_c1[i]/d2_c\n",
    "    d3_c0[i]=d3_c0[i]/(len(data3)-d3_c)\n",
    "    d3_c1[i]=d3_c1[i]/d3_c"
   ]
  },
  {
   "cell_type": "code",
   "execution_count": 120,
   "metadata": {},
   "outputs": [],
   "source": [
    "def pred1(x):\n",
    "    p0=1\n",
    "    p1=1\n",
    "    global d1_c0,d1_c1\n",
    "    for i in range(1,len(x)):\n",
    "        p0*=d1_c0[i][x[i]-1]\n",
    "        p1*=d1_c1[i][x[i]-1]\n",
    "        \n",
    "    if p0>p1:\n",
    "        return 0\n",
    "    else :\n",
    "        return 1\n",
    "\n",
    "def pred2(x):\n",
    "    p0=1\n",
    "    p1=1\n",
    "    global d2_c0,d2_c1\n",
    "    for i in range(1,len(x)):\n",
    "        p0*=d2_c0[i][x[i]-1]\n",
    "        p1*=d2_c1[i][x[i]-1]\n",
    "        \n",
    "    if p0>p1:\n",
    "        return 0\n",
    "    else :\n",
    "        return 1\n",
    "    \n",
    "def pred3(x):\n",
    "    p0=1\n",
    "    p1=1\n",
    "    global d3_c0,d3_c1\n",
    "    for i in range(1,len(x)):\n",
    "        p0*=d3_c0[i][x[i]-1]\n",
    "        p1*=d3_c1[i][x[i]-1]\n",
    "        \n",
    "    if p0>p1:\n",
    "        return 0\n",
    "    else :\n",
    "        return 1"
   ]
  },
  {
   "cell_type": "code",
   "execution_count": 121,
   "metadata": {},
   "outputs": [],
   "source": [
    "t1=pd.read_csv('test1',sep=' ',header=None)\n",
    "t2=pd.read_csv('test2',sep=' ',header=None)\n",
    "t3=pd.read_csv('test3',sep=' ',header=None)\n",
    "t1.drop(0,axis=1,inplace=True)\n",
    "t1.drop(8,axis=1,inplace=True)\n",
    "t2.drop(0,axis=1,inplace=True)\n",
    "t2.drop(8,axis=1,inplace=True)\n",
    "t3.drop(0,axis=1,inplace=True)\n",
    "t3.drop(8,axis=1,inplace=True)\n",
    "test1=t1.to_numpy()\n",
    "test2=t2.to_numpy()\n",
    "test3=t3.to_numpy()"
   ]
  },
  {
   "cell_type": "code",
   "execution_count": 122,
   "metadata": {},
   "outputs": [],
   "source": [
    "ac=0\n",
    "for i in test1:\n",
    "    if i[0]==pred1(i):\n",
    "        ac+=1\n",
    "for i in test2:\n",
    "    if i[0]==pred2(i):\n",
    "        ac+=1\n",
    "for i in test3:\n",
    "    if i[0]==pred3(i):\n",
    "        ac+=1\n",
    "        \n",
    "        "
   ]
  },
  {
   "cell_type": "code",
   "execution_count": 113,
   "metadata": {},
   "outputs": [
    {
     "data": {
      "text/plain": [
       "415"
      ]
     },
     "execution_count": 113,
     "metadata": {},
     "output_type": "execute_result"
    }
   ],
   "source": [
    "len(test1)+len(test2)+len(test3)"
   ]
  },
  {
   "cell_type": "code",
   "execution_count": 129,
   "metadata": {},
   "outputs": [
    {
     "data": {
      "text/plain": [
       "255"
      ]
     },
     "execution_count": 129,
     "metadata": {},
     "output_type": "execute_result"
    }
   ],
   "source": [
    "ac"
   ]
  },
  {
   "cell_type": "code",
   "execution_count": 128,
   "metadata": {},
   "outputs": [
    {
     "data": {
      "text/plain": [
       "{1: array([0.33333333, 0.33333333, 0.33333333]),\n",
       " 2: array([0.33333333, 0.33333333, 0.33333333]),\n",
       " 3: array([0.5, 0.5]),\n",
       " 4: array([0.33333333, 0.33333333, 0.33333333]),\n",
       " 5: array([0.5       , 0.16666667, 0.16666667, 0.16666667]),\n",
       " 6: array([0.5, 0.5])}"
      ]
     },
     "execution_count": 128,
     "metadata": {},
     "output_type": "execute_result"
    }
   ],
   "source": [
    "d2_c1"
   ]
  },
  {
   "cell_type": "code",
   "execution_count": null,
   "metadata": {},
   "outputs": [],
   "source": []
  }
 ],
 "metadata": {
  "kernelspec": {
   "display_name": "Python 3",
   "language": "python",
   "name": "python3"
  },
  "language_info": {
   "codemirror_mode": {
    "name": "ipython",
    "version": 3
   },
   "file_extension": ".py",
   "mimetype": "text/x-python",
   "name": "python",
   "nbconvert_exporter": "python",
   "pygments_lexer": "ipython3",
   "version": "3.5.2"
  }
 },
 "nbformat": 4,
 "nbformat_minor": 2
}
